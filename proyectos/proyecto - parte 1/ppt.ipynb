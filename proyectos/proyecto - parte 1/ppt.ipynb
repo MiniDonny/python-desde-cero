{
 "cells": [
  {
   "cell_type": "markdown",
   "metadata": {},
   "source": [
    "## PIEDRA PAPEL O TIJERAS\n"
   ]
  },
  {
   "cell_type": "code",
   "execution_count": null,
   "metadata": {},
   "outputs": [],
   "source": [
    "# Algoritmo para Piedra Papel o Tijeras de 1 jugador vs PC   \n",
    "\n",
    "# import random es un módulo incorporado que proporciona funciones para trabajar con números aleatorios, lo utilizare para realizar las actividades de la pc\n",
    "import random\n",
    "\n",
    "# Función del juego\n",
    "def jugar():\n",
    "    \n",
    "    # Creo la variable usuario y le pido que ingrese su elección por un input\n",
    "    jugador = input(\"Elige una opción según el número: 1-Piedra, 2-Papel, 3-Tijeras\\n\").lower()\n",
    "    \n",
    "    # Creo los elementos para que la computadora elija al azar\n",
    "    elementos = ['1', '2', '3']\n",
    "    \n",
    "    # Creo la variable pc\n",
    "    pc = random.choice(elementos)\n",
    "    \n",
    "    # Verifico que la opción del jugador sea válida\n",
    "    if jugador not in ['1', '2', '3']:\n",
    "        return \"Por favor, elige una opción válida.\"\n",
    "    \n",
    "    # Condición que si eligen lo mismo es un empate\n",
    "    if jugador == pc:\n",
    "        return \"Empate. Ambos eligieron {}\".format(jugador)\n",
    "    \n",
    "    # Condición de ganador, si el jugador o la computadora es ganador retorna un true\n",
    "    if is_ganador(jugador, pc):\n",
    "        return \"Elegiste {} y la computadora eligió {}. ¡Ganaste!\".format(jugador, pc)\n",
    "    \n",
    "    # En caso de perder\n",
    "    return \"Elegiste {} y la computadora eligió {}. ¡Perdiste!\".format(jugador, pc)\n",
    "\n",
    "# Función del juego para determinar al ganador    \n",
    "def is_ganador(jugador, oponente):\n",
    "    # Devuelve True si el jugador es el ganador\n",
    "    # Condiciones para ganar: 1-Piedra > 3-Tijera, 3-Tijera > 2-Papel, 2-Papel > 1-Piedra\n",
    "    if (jugador == '1' and oponente == '3') or (jugador == '3' and oponente == '2') or (jugador == '2' and oponente == '1'):\n",
    "        return True\n",
    "    # Si no ganamos, retorna False\n",
    "    return False\n",
    "\n",
    "if __name__ == \"__main__\":\n",
    "    print(jugar())\n"
   ]
  }
 ],
 "metadata": {
  "kernelspec": {
   "display_name": "Python 3",
   "language": "python",
   "name": "python3"
  },
  "language_info": {
   "codemirror_mode": {
    "name": "ipython",
    "version": 3
   },
   "file_extension": ".py",
   "mimetype": "text/x-python",
   "name": "python",
   "nbconvert_exporter": "python",
   "pygments_lexer": "ipython3",
   "version": "3.12.0"
  }
 },
 "nbformat": 4,
 "nbformat_minor": 2
}
